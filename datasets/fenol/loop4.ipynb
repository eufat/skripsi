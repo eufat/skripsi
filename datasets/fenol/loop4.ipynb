{
 "cells": [
  {
   "cell_type": "code",
   "execution_count": 1,
   "metadata": {},
   "outputs": [],
   "source": [
    "import pandas as pd"
   ]
  },
  {
   "cell_type": "code",
   "execution_count": 2,
   "metadata": {},
   "outputs": [],
   "source": [
    "# abs510_1 = pd.read_csv('Batch 1/Absorbansi_510_Batch_1.csv', names=['Absorbansi 510 nm'])\n",
    "# abs510_2 = pd.read_csv('Batch 2/Absorbansi_510_Batch_2.csv', names=['Absorbansi 510 nm'])\n",
    "satu = pd.read_csv('kadar_1.csv', names=['Fenolik (GAE)'])\n",
    "dua = pd.read_csv('kadar_2.csv', names=['Fenolik (GAE)'])"
   ]
  },
  {
   "cell_type": "code",
   "execution_count": 7,
   "metadata": {},
   "outputs": [],
   "source": [
    "for n in range (0,82):\n",
    "    data = kadar1.iloc[n]\n",
    "    value = data.values\n",
    "    number = value[0]\n",
    "    for i in range (1,10):\n",
    "        csv_str = \"\"\n",
    "        csv_str += str(number) +\"\\n\"  #line 1\n",
    "        file = open(\"Fenolik_Fixed\" + \".csv\" , 'a')\n",
    "        file.write(csv_str)\n",
    "        file.close()\n",
    "pd.read_csv('Fenolik_Fixed.csv', names=['Fenolik (GAE)']).shape"
   ]
  },
  {
   "cell_type": "code",
   "execution_count": 10,
   "metadata": {},
   "outputs": [
    {
     "data": {
      "text/plain": [
       "(737, 1)"
      ]
     },
     "execution_count": 10,
     "metadata": {},
     "output_type": "execute_result"
    }
   ],
   "source": [
    "pd.read_csv('Fenolik_Fixed.csv').shape"
   ]
  },
  {
   "cell_type": "code",
   "execution_count": 3,
   "metadata": {},
   "outputs": [],
   "source": [
    "drop1 = satu.drop([18])\n",
    "drop2 = dua.drop([0, 1, 6, 7, 9, 10, 12, 13, 18, 19, 20, 21, 22, 23, 24, 25, 26, 27, 28, 29, 30, 31, 32, 33, 36])"
   ]
  },
  {
   "cell_type": "code",
   "execution_count": 4,
   "metadata": {},
   "outputs": [
    {
     "data": {
      "text/plain": [
       "((53, 1), (29, 1))"
      ]
     },
     "execution_count": 4,
     "metadata": {},
     "output_type": "execute_result"
    }
   ],
   "source": [
    "drop1.shape, drop2.shape"
   ]
  },
  {
   "cell_type": "code",
   "execution_count": 5,
   "metadata": {},
   "outputs": [
    {
     "data": {
      "text/plain": [
       "(82, 1)"
      ]
     },
     "execution_count": 5,
     "metadata": {},
     "output_type": "execute_result"
    }
   ],
   "source": [
    "kadar1 = pd.concat([drop1, drop2], axis=0)\n",
    "kadar1.shape"
   ]
  },
  {
   "cell_type": "code",
   "execution_count": 6,
   "metadata": {},
   "outputs": [
    {
     "data": {
      "text/plain": [
       "(82, 1)"
      ]
     },
     "execution_count": 6,
     "metadata": {},
     "output_type": "execute_result"
    }
   ],
   "source": [
    "kadar1.to_csv('Fenolik.csv', index=False)\n",
    "kadar1 = pd.read_csv('Fenolik.csv')\n",
    "kadar1.shape"
   ]
  },
  {
   "cell_type": "code",
   "execution_count": null,
   "metadata": {},
   "outputs": [],
   "source": []
  }
 ],
 "metadata": {
  "kernelspec": {
   "display_name": "Python 3",
   "language": "python",
   "name": "python3"
  },
  "language_info": {
   "codemirror_mode": {
    "name": "ipython",
    "version": 3
   },
   "file_extension": ".py",
   "mimetype": "text/x-python",
   "name": "python",
   "nbconvert_exporter": "python",
   "pygments_lexer": "ipython3",
   "version": "3.7.1"
  }
 },
 "nbformat": 4,
 "nbformat_minor": 2
}
